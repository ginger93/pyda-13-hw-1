{
 "cells": [
  {
   "cell_type": "code",
   "execution_count": 4,
   "metadata": {},
   "outputs": [
    {
     "name": "stdout",
     "output_type": "stream",
     "text": [
      "Фраза_1 равна Фразе_2\n"
     ]
    }
   ],
   "source": [
    "phrase_1 = 'Быть или не быть, вот в чем вопрос.'\n",
    "phrase_2 = 'Быть или не быть, вот в чем вопрос.'\n",
    "if len(phrase_1) > len(phrase_2):\n",
    "    print('Фраза_1 длиннее Фразы_2')\n",
    "elif len(phrase_1) < len(phrase_2):\n",
    "    print('Фраза_2 длиннее Фразы_1')\n",
    "else:\n",
    "    print('Фраза_1 равна Фразе_2')"
   ]
  },
  {
   "cell_type": "code",
   "execution_count": 17,
   "metadata": {},
   "outputs": [
    {
     "name": "stdout",
     "output_type": "stream",
     "text": [
      "Високосный год\n"
     ]
    }
   ],
   "source": [
    "year = 2012\n",
    "if year % 4 == 0:\n",
    "    print('Високосный год')\n",
    "elif year % 100 == 0:\n",
    "    if year % 400 == 0:\n",
    "        print('Високосный год')\n",
    "    else:\n",
    "        print('Обычный год')\n",
    "else:\n",
    "    print('Обычный год')"
   ]
  },
  {
   "cell_type": "code",
   "execution_count": 38,
   "metadata": {},
   "outputs": [
    {
     "name": "stdout",
     "output_type": "stream",
     "text": [
      "Введите день\n",
      "5\n",
      "Введите месяц\n",
      "апрель\n",
      "Ваш знак зодиака: Овен\n"
     ]
    }
   ],
   "source": [
    "print('Введите день')\n",
    "day = int(input())\n",
    "print('Введите месяц')\n",
    "month = str(input())\n",
    "if  (day >= 20 and day <= 31) and month == ('январь'):\n",
    "    print('Ваш знак зодиака: Водолей')\n",
    "elif (day >= 1 and day <= 18) and month == ('февраль'):\n",
    "    print('Ваш знак зодиака: Водолей')\n",
    "elif (day >= 19 and day <= 29) and month == ('февраль'):\n",
    "    print('Ваш знак зодиака: Рыбы')\n",
    "elif (day >= 1 and day <= 20) and month == ('март'):\n",
    "    print('Ваш знак зодиака: Рыбы')\n",
    "elif (day >= 21 and day <= 31) and month == ('март'):\n",
    "    print('Ваш знак зодиака: Овен')\n",
    "elif (day >= 1 and day <= 19) and month == ('апрель'):\n",
    "    print('Ваш знак зодиака: Овен')\n",
    "elif (day >= 20 and day <= 30) and month == ('апрель'):\n",
    "    print('Ваш знак зодиака: Телец')\n",
    "elif (day >= 1 and day <= 20) and month == ('май'):\n",
    "    print('Ваш знак зодиака: Телец')\n",
    "elif (day >= 21 and day <= 31) and month == ('май'):\n",
    "    print('Ваш знак зодиака: Близнецы')\n",
    "elif (day >= 1 and day <= 20) and month == ('июнь'):\n",
    "    print('Ваш знак зодиака: Близнецы')\n",
    "elif (day >= 21 and day <= 30) and month == ('июнь'):\n",
    "    print('Ваш знак зодиака: Рак')\n",
    "elif (day >= 1 and day <= 22) and month == ('июль'):\n",
    "    print('Ваш знак зодиака: Рак')\n",
    "elif (day >= 23 and day <= 31) and month == ('июль'):\n",
    "    print('Ваш знак зодиака: Лев')\n",
    "elif (day >= 1 and day <= 22) and month == ('август'):\n",
    "    print('Ваш знак зодиака: Лев')\n",
    "elif (day >= 23 and day <= 31) and month == ('август'):\n",
    "    print('Ваш знак зодиака: Дева')\n",
    "elif (day >= 1 and day <= 22) and month == ('сентябрь'):\n",
    "    print('Ваш знак зодиака: Дева')\n",
    "elif (day >= 23 and day <= 30) and month == ('сентябрь'):\n",
    "    print('Ваш знак зодиака: Весы')\n",
    "elif (day >= 1 and day <= 22) and month == ('октябрь'):\n",
    "    print('Ваш знак зодиака: Весы')\n",
    "elif (day >= 23 and day <= 31) and month == ('октябрь'):\n",
    "    print('Ваш знак зодиака: Скорпион')\n",
    "elif (day >= 1 and day <= 21) and month == ('ноябрь'):\n",
    "    print('Ваш знак зодиака: Скорпион')\n",
    "elif (day >= 22 and day <= 30) and month == ('ноябрь'):\n",
    "    print('Ваш знак зодиака: Стрелец')\n",
    "elif (day >= 1 and day <= 21) and month == ('декабрь'):\n",
    "    print('Ваш знак зодиака: Стрелец')\n",
    "elif (day >= 22 and day <= 31) and month == ('декабрь'):\n",
    "    print('Ваш знак зодиака: Козерог')\n",
    "elif (day >= 1 and day <= 19) and month == ('январь'):\n",
    "    print('Ваш знак зодиака: Козерог')\n",
    "else:\n",
    "    print('некорректные данные')"
   ]
  },
  {
   "cell_type": "code",
   "execution_count": 45,
   "metadata": {},
   "outputs": [
    {
     "name": "stdout",
     "output_type": "stream",
     "text": [
      "стандартная коробка №3\n"
     ]
    }
   ],
   "source": [
    "w = 15\n",
    "l = 50\n",
    "h = 15\n",
    "if l > 200:\n",
    "    print('коробка для лыж')\n",
    "elif w <= 15 and l <= 15 and h <= 15:\n",
    "    print('коробка №1')\n",
    "elif 15 < w < 50 or 15 < l < 50 or 15 < h < 50:\n",
    "    print('коробка №2')\n",
    "else:\n",
    "    print('стандартная коробка №3')"
   ]
  },
  {
   "cell_type": "code",
   "execution_count": null,
   "metadata": {},
   "outputs": [],
   "source": []
  }
 ],
 "metadata": {
  "kernelspec": {
   "display_name": "Python 3",
   "language": "python",
   "name": "python3"
  },
  "language_info": {
   "codemirror_mode": {
    "name": "ipython",
    "version": 3
   },
   "file_extension": ".py",
   "mimetype": "text/x-python",
   "name": "python",
   "nbconvert_exporter": "python",
   "pygments_lexer": "ipython3",
   "version": "3.8.3"
  }
 },
 "nbformat": 4,
 "nbformat_minor": 4
}
