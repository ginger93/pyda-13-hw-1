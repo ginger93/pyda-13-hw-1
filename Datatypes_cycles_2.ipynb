{
 "cells": [
  {
   "cell_type": "code",
   "execution_count": 20,
   "metadata": {},
   "outputs": [
    {
     "name": "stdout",
     "output_type": "stream",
     "text": [
      "{98, 35, 15, 213, 54, 119}\n"
     ]
    }
   ],
   "source": [
    "v = []\n",
    "ids = {'user1': [213, 213, 213, 15, 213],\n",
    "'user2': [54, 54, 119, 119, 119],\n",
    "'user3': [213, 98, 98, 35]}\n",
    "for values in ids.values():\n",
    "        for val in values:\n",
    "            if val not in v:\n",
    "                v.append(val)\n",
    "print(set(v))"
   ]
  },
  {
   "cell_type": "code",
   "execution_count": 59,
   "metadata": {},
   "outputs": [
    {
     "name": "stdout",
     "output_type": "stream",
     "text": [
      "Поисковых запросов, содержащих 3 слов(а): 57.14\n",
      "Поисковых запросов, содержащих 2 слов(а): 42.86\n"
     ]
    }
   ],
   "source": [
    "index = 0\n",
    "rate = 0\n",
    "rate_1 = 0\n",
    "queries = [\n",
    "'смотреть сериалы онлайн',\n",
    "'новости спорта',\n",
    "'афиша кино',\n",
    "'курс доллара',\n",
    "'сериалы этим летом',\n",
    "'курс по питону',\n",
    "'сериалы про спорт',\n",
    "]\n",
    "for query in queries:\n",
    "    if index <= len(queries) and len(queries[index].split(' ')) == 3:\n",
    "        rate += 1\n",
    "        index += 1\n",
    "        \n",
    "    else:\n",
    "        rate_1 += 1\n",
    "        index += 1\n",
    "        \n",
    "print('Поисковых запросов, содержащих 3 слов(а):', round(rate / len(queries) * 100, 2))   \n",
    "print('Поисковых запросов, содержащих 2 слов(а):', round(rate_1 / len(queries) * 100, 2))\n"
   ]
  },
  {
   "cell_type": "code",
   "execution_count": 85,
   "metadata": {},
   "outputs": [
    {
     "data": {
      "text/plain": [
       "[('adwords', {'revenue': 35, 'cost': 34, 'ROI': 2.94}),\n",
       " ('facebook', {'revenue': 103, 'cost': 110, 'ROI': -6.36}),\n",
       " ('twitter', {'revenue': 11, 'cost': 24, 'ROI': -54.17}),\n",
       " ('vk', {'revenue': 103, 'cost': 98, 'ROI': 5.1}),\n",
       " ('yandex', {'revenue': 179, 'cost': 153, 'ROI': 16.99})]"
      ]
     },
     "execution_count": 85,
     "metadata": {},
     "output_type": "execute_result"
    }
   ],
   "source": [
    "results = {\n",
    "'vk': {'revenue': 103, 'cost': 98},\n",
    "'yandex': {'revenue': 179, 'cost': 153},\n",
    "'facebook': {'revenue': 103, 'cost': 110},\n",
    "'adwords': {'revenue': 35, 'cost': 34},\n",
    "'twitter': {'revenue': 11, 'cost': 24},\n",
    "}\n",
    "for company, info in results.items():\n",
    "    info['ROI'] = round((info['revenue'] / info['cost'] - 1) * 100, 2)\n",
    "sorted(results.items())"
   ]
  },
  {
   "cell_type": "code",
   "execution_count": 91,
   "metadata": {},
   "outputs": [
    {
     "name": "stdout",
     "output_type": "stream",
     "text": [
      "Максимальный объем продаж на рекламном канале: google\n"
     ]
    }
   ],
   "source": [
    "stats = {'facebook': 55, 'yandex': 125, 'vk': 120, 'google': 300, 'email': 42, 'ok': 98}\n",
    "for key, value in stats.items():\n",
    "    if value == max(stats.values()):\n",
    "        print(f'Максимальный объем продаж на рекламном канале: {key}')"
   ]
  }
 ],
 "metadata": {
  "kernelspec": {
   "display_name": "Python 3",
   "language": "python",
   "name": "python3"
  },
  "language_info": {
   "codemirror_mode": {
    "name": "ipython",
    "version": 3
   },
   "file_extension": ".py",
   "mimetype": "text/x-python",
   "name": "python",
   "nbconvert_exporter": "python",
   "pygments_lexer": "ipython3",
   "version": "3.8.3"
  }
 },
 "nbformat": 4,
 "nbformat_minor": 4
}
