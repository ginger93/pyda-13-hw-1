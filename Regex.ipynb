{
 "cells": [
  {
   "cell_type": "code",
   "execution_count": 107,
   "metadata": {},
   "outputs": [],
   "source": [
    "import re"
   ]
  },
  {
   "cell_type": "markdown",
   "metadata": {},
   "source": [
    "#### Задание 1\n",
    "Напишите функцию, которая принимает на вход строку и проверяет является ли она валидным транспортным номером (1 буква, 3 цифры, 2 буквы, 2-3 цифры). Обратите внимание, что не все буквы кириллического алфавита используются в транспортных номерах.\n",
    "\n",
    "Если номер валиден, то функция должна возвращать отдельно номер и регион."
   ]
  },
  {
   "cell_type": "code",
   "execution_count": 67,
   "metadata": {},
   "outputs": [
    {
     "name": "stdout",
     "output_type": "stream",
     "text": [
      "Введите номер авто:А780МИ78\n",
      "Номер не валиден\n"
     ]
    }
   ],
   "source": [
    "car_number = input('Введите номер авто:')\n",
    "if re.findall(r'([АВЕКМНОРСТУХ])(\\d{3})([АВЕКМНОРСТУХ]{2})(\\d{2,3})', car_number):\n",
    "    number = re.findall(r'\\w\\d{3}\\w{2}', car_number)\n",
    "    region = re.findall(r'\\d{2,3}$', car_number)\n",
    "    print(f'Номер {number} валиден. Регион: {region}')\n",
    "else:\n",
    "    print('Номер не валиден')"
   ]
  },
  {
   "cell_type": "markdown",
   "metadata": {},
   "source": [
    "#### Задание 2\n",
    "Напишите функцию, которая будет удалять все последовательные повторы слов из заданной строки при помощи регулярных выражений."
   ]
  },
  {
   "cell_type": "code",
   "execution_count": 86,
   "metadata": {},
   "outputs": [
    {
     "data": {
      "text/plain": [
       "'Напишите функцию, которая будет удалять все последовательные повторы слов из заданной строки при помощи регулярных выражений'"
      ]
     },
     "execution_count": 86,
     "metadata": {},
     "output_type": "execute_result"
    }
   ],
   "source": [
    "some_string = 'Напишите функцию функцию, которая будет будет будет будет удалять все все все все последовательные повторы слов из из из из заданной строки строки при помощи регулярных выражений'\n",
    "re.sub(r'\\b([^\\W\\d]+)(\\s+\\1)+\\b', r'\\1', some_string)"
   ]
  },
  {
   "cell_type": "markdown",
   "metadata": {},
   "source": [
    "#### Задание 3\n",
    "Напишите функцию, которая будет возвращать акроним по переданной в нее строке со словами."
   ]
  },
  {
   "cell_type": "code",
   "execution_count": 100,
   "metadata": {},
   "outputs": [
    {
     "name": "stdout",
     "output_type": "stream",
     "text": [
      "Near Field Communication\n",
      "NFC"
     ]
    }
   ],
   "source": [
    "some_words = input()\n",
    "result = re.findall(r'\\b\\w', some_words)\n",
    "for acro in result:\n",
    "    print(acro.upper(), end='')"
   ]
  },
  {
   "cell_type": "markdown",
   "metadata": {},
   "source": [
    "#### Задание 4\n",
    "Напишите функцию, которая будет принимать на вход список email-адресов и выводить их распределение по доменным зонам."
   ]
  },
  {
   "cell_type": "code",
   "execution_count": 152,
   "metadata": {},
   "outputs": [
    {
     "name": "stdout",
     "output_type": "stream",
     "text": [
      "@gmail.com 3\n",
      "@test.in 1\n",
      "@ya.ru 2\n",
      "@mail.ru 1\n"
     ]
    }
   ],
   "source": [
    "# emails = ['test@gmail.com', 'xyz@test.in', 'test@ya.ru', 'xyz@mail.ru', 'xyz@ya.ru', 'xyz@gmail.com']\n",
    "emails = ['test@gmail.com, xyz@test.in, test@ya.ru, xyz@mail.ru, xyz@ya.ru, xyz@gmail.com, jhg@gmail.com']\n",
    "res = {}\n",
    "for em in emails:\n",
    "    domain = re.findall(r'@\\w+.\\w+', em)\n",
    "    for x in domain:\n",
    "        if x in res:\n",
    "            res[x] +=1\n",
    "        else:\n",
    "            res[x] = 1\n",
    "for k,v in res.items():\n",
    "    print(k,v)"
   ]
  },
  {
   "cell_type": "markdown",
   "metadata": {},
   "source": [
    "#### Задание 5 (необязательное)\n",
    "\n",
    "Напишите функцию, которая будет подсчитывать сколько слов начинается на гласные, а сколько на согласные буквы в тексте (текст может быть написан как с использованием букв кириллицы, так и латиницы).\n",
    "\n",
    "Пример работы программы:\n",
    "\n",
    "some_text = ‘Эталонной реализацией Python является интерпретатор CPython, поддерживающий большинство активно используемых платформ. Он распространяется под свободной лицензией Python Software Foundation License, позволяющей использовать его без ограничений в любых приложениях, включая проприетарные.’\n",
    "\n",
    "Результат:\n",
    "\n",
    "Слов на гласные буквы: 9\n",
    "Слов на согласные буквы: 21"
   ]
  },
  {
   "cell_type": "code",
   "execution_count": 166,
   "metadata": {},
   "outputs": [
    {
     "name": "stdout",
     "output_type": "stream",
     "text": [
      "Слов на гласные буквы: 9\n",
      "Слов на согласные буквы: 21\n"
     ]
    }
   ],
   "source": [
    "some_text = 'Эталонной реализацией Python является интерпретатор CPython, поддерживающий большинство активно используемых платформ. Он распространяется под свободной лицензией Python Software Foundation License, позволяющей использовать его без ограничений в любых приложениях, включая проприетарные.'\n",
    "\n",
    "a = re.findall(r'\\b[AEIOUYaeiouyАЕИОУЭЮЯаеиоуэюя]\\w+', some_text)\n",
    "b = re.findall(r'\\b[QWRTPSDFGHJKLZXCVBNMqwrtpsdfghjklzxcvbnmцкнгшщзхфвпрлджчсмтбЦКНГШЩЗХФВПРЛДЖЧСМТБ]', some_text)\n",
    "print('Слов на гласные буквы:' , len(a))\n",
    "print('Слов на согласные буквы:' ,len(b))"
   ]
  }
 ],
 "metadata": {
  "kernelspec": {
   "display_name": "Python 3",
   "language": "python",
   "name": "python3"
  },
  "language_info": {
   "codemirror_mode": {
    "name": "ipython",
    "version": 3
   },
   "file_extension": ".py",
   "mimetype": "text/x-python",
   "name": "python",
   "nbconvert_exporter": "python",
   "pygments_lexer": "ipython3",
   "version": "3.8.3"
  }
 },
 "nbformat": 4,
 "nbformat_minor": 4
}
