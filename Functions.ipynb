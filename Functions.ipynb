{
 "cells": [
  {
   "cell_type": "code",
   "execution_count": 61,
   "metadata": {},
   "outputs": [],
   "source": [
    "documents = [\n",
    "{'type': 'passport', 'number': '2207 876234', 'name': 'Василий Гупкин'},\n",
    "{'type': 'invoice', 'number': '11-2', 'name': 'Геннадий Покемонов'},\n",
    "{'type': 'insurance', 'number': '10006', 'name': 'Аристарх Павлов'},\n",
    "{'type': 'insurance', 'number': '1', 'name': 'Павел Аристархов'}\n",
    "]\n",
    "\n",
    "directories = {'1': ['2207 876234', '11-2'], '2': ['10006'], '3': []}\n"
   ]
  },
  {
   "cell_type": "markdown",
   "metadata": {},
   "source": [
    "## Пункт 1. Пользователь по команде “p” может узнать владельца документа по его номеру"
   ]
  },
  {
   "cell_type": "code",
   "execution_count": 39,
   "metadata": {},
   "outputs": [],
   "source": [
    "def doc_owner(document):\n",
    "    user_input1 = input('Введите номер документа: ')\n",
    "    owner = 'Номер документа не найден'\n",
    "    for doc in document:\n",
    "        if user_input1 == doc['number']:\n",
    "            owner = doc['name']\n",
    "            print('Владелец документа:', '\\n' )\n",
    "    return  owner"
   ]
  },
  {
   "cell_type": "markdown",
   "metadata": {},
   "source": [
    "## Пункт 2. Пользователь по команде “s” может по номеру документа узнать на какой полке он хранится"
   ]
  },
  {
   "cell_type": "code",
   "execution_count": 40,
   "metadata": {},
   "outputs": [],
   "source": [
    "def shelf_number(directory):\n",
    "    user_input2 = input('Введите номер документа: ')\n",
    "    num = 'Номер документа не найден'\n",
    "    for k, v  in directory.items():\n",
    "           if user_input2 in v:\n",
    "                num = k\n",
    "                print('Документ хранится на полке:')\n",
    "    return num"
   ]
  },
  {
   "cell_type": "markdown",
   "metadata": {},
   "source": [
    "## Пункт 3. Пользователь по команде “l” может увидеть полную информацию по всем документам"
   ]
  },
  {
   "cell_type": "code",
   "execution_count": 41,
   "metadata": {},
   "outputs": [],
   "source": [
    "def full_info(document, directory):\n",
    "    for k, v  in directory.items():\n",
    "        for doct in document:\n",
    "            if doct['number'] in v:\n",
    "                print(f\"№{doct['number']}, тип:{doct['type']}, владелец: {doct['name']}, полка хранения:{k}\")\n",
    "    if doct['number'] not in v:\n",
    "                print(f\"№{doct['number']}, тип:{doct['type']}, владелец: {doct['name']}, полка хранения:еще не не полке\")\n",
    "                "
   ]
  },
  {
   "cell_type": "markdown",
   "metadata": {},
   "source": [
    "## Пункт 4. Пользователь по команде “as” может добавить новую полку"
   ]
  },
  {
   "cell_type": "code",
   "execution_count": 60,
   "metadata": {},
   "outputs": [],
   "source": [
    "def add_shelf(directory):\n",
    "    user_input3 = input('Введите номер полки: ')\n",
    "    if user_input3 in directory.keys():\n",
    "        res = (f'Полка уже существует. Текущий перечень полок: {sorted(directory.keys())}')\n",
    "    else:\n",
    "        directory[user_input3] = []\n",
    "        res = (f'Полка добавлена. Текущий перечень полок:, {sorted(directory.keys())}')\n",
    "    return res\n"
   ]
  },
  {
   "cell_type": "markdown",
   "metadata": {},
   "source": [
    "## Пункт 5. Пользователь по команде “ds” может удалить существующую полку из данных (только если она пустая)"
   ]
  },
  {
   "cell_type": "code",
   "execution_count": 59,
   "metadata": {},
   "outputs": [],
   "source": [
    "def delete_shelf(directory):\n",
    "    user_input4 = input('Введите номер полки: ')\n",
    "    if user_input4 in directory.keys() and bool(directory[user_input4]) == False:\n",
    "            del(directory[user_input4])\n",
    "            res = (f'Полка удалена. Текущий перечень полок:, {sorted(directory.keys())}')\n",
    "    elif user_input4 not in directory.keys() :\n",
    "            res = (f'Такой полки не существует. Текущий перечень полок:, {sorted(directory.keys())}')\n",
    "    else:\n",
    "            res = (f'На полке есть документы. Удалите сперва их перед удалением полки. Текущий перечень полок:, {sorted(directory.keys())}')\n",
    "    return res\n",
    "    "
   ]
  },
  {
   "cell_type": "markdown",
   "metadata": {},
   "source": [
    "## Реализация пользовательского ввода"
   ]
  },
  {
   "cell_type": "code",
   "execution_count": 44,
   "metadata": {},
   "outputs": [],
   "source": [
    "def user_interface(document, directory):\n",
    "    while True:\n",
    "        u_input = input('Введите команду: ')\n",
    "        print()\n",
    "        if u_input == 'p':\n",
    "            print(doc_owner(document), '\\n')\n",
    "        elif u_input =='s':\n",
    "            print(shelf_number(directory), '\\n')\n",
    "        elif u_input =='l':\n",
    "            print(full_info(document, directory), '\\n')\n",
    "        elif u_input =='as':\n",
    "            print(add_shelf(directory), '\\n')\n",
    "        elif u_input =='ds':\n",
    "            print(delete_shelf(directory), '\\n')\n",
    "        elif u_input == 'q':\n",
    "            break\n",
    "        else:\n",
    "            print('Введена неверная команда', '\\n')\n",
    "    "
   ]
  },
  {
   "cell_type": "code",
   "execution_count": 62,
   "metadata": {
    "scrolled": true
   },
   "outputs": [
    {
     "name": "stdout",
     "output_type": "stream",
     "text": [
      "Введите команду: as\n",
      "\n",
      "Введите номер полки: 4\n",
      "Полка добавлена. Текущий перечень полок:, ['1', '2', '3', '4'] \n",
      "\n",
      "Введите команду: ds\n",
      "\n",
      "Введите номер полки: 4\n",
      "Полка удалена. Текущий перечень полок:, ['1', '2', '3'] \n",
      "\n",
      "Введите команду: q\n",
      "\n"
     ]
    }
   ],
   "source": [
    "user_interface(documents, directories)"
   ]
  }
 ],
 "metadata": {
  "kernelspec": {
   "display_name": "Python 3",
   "language": "python",
   "name": "python3"
  }
 },
 "nbformat": 4,
 "nbformat_minor": 4
}
