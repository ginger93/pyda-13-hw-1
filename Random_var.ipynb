{
 "cells": [
  {
   "cell_type": "markdown",
   "metadata": {},
   "source": [
    "Смоделировать игру против лотерейного автомата типа “777”.  \n",
    "Игрок платит 1 руб., после чего выпадает случайное целое число, равномерно распределенное от 0 до 999.  \n",
    "При некоторых значениях числа игрок получает выигрыш (см. справа)\n",
    "\n",
    "Выгодна ли игра игроку?\n",
    "\n",
    "Сколько в среднем приобретает\n",
    "или теряет игрок за одну игру?\n",
    "\n",
    "777: 200 руб.  \n",
    "999: 100 руб.  \n",
    "555: 50 руб.  \n",
    "333: 15 руб.  \n",
    "111: 10 руб.  \n",
    "\\*77: 5 руб.  \n",
    "\\**7: 5 руб.  \n",
    "\\**00: 2 руб.  \n",
    "\\**0: 1 руб.  \n",
    "\n",
    "\\* – любая цифра"
   ]
  },
  {
   "cell_type": "code",
   "execution_count": 1,
   "metadata": {},
   "outputs": [],
   "source": [
    "import numpy as np"
   ]
  },
  {
   "cell_type": "code",
   "execution_count": 169,
   "metadata": {},
   "outputs": [
    {
     "name": "stdout",
     "output_type": "stream",
     "text": [
      "Успешных попыток: 2027 Попыток: 10000 Вероятность: 0.2027 Доход: -1023\n"
     ]
    }
   ],
   "source": [
    "# np.random.seed(1)\n",
    "trials = 10000\n",
    "successes = 0\n",
    "win_lose = -trials\n",
    "\n",
    "for i in range(trials):\n",
    "    random_score = np.random.randint(0, 1000)\n",
    "    if random_score == 777:\n",
    "        successes +=1\n",
    "        win_lose += 200\n",
    "    elif random_score == 999:\n",
    "        successes +=1\n",
    "        win_lose += 100\n",
    "    elif random_score == 555:\n",
    "        successes +=1\n",
    "        win_lose += 50\n",
    "    elif random_score == 333:\n",
    "        successes +=1\n",
    "        win_lose += 15\n",
    "    elif random_score == 111:\n",
    "        successes +=1\n",
    "        win_lose += 10\n",
    "    elif (random_score % 100 == 77) and (random_score != 777):\n",
    "        successes += 1\n",
    "        win_lose += 5\n",
    "    elif (random_score % 10 == 7) and (random_score % 100 != 77):\n",
    "        successes += 1\n",
    "        win_lose += 3\n",
    "    elif random_score % 100 == 0:\n",
    "        successes += 1\n",
    "        win_lose += 2\n",
    "    elif (random_score % 10 == 0) and (random_score % 100 != 0):\n",
    "        successes += 1\n",
    "        win_lose += 1\n",
    "p_monte_carlo = successes / trials\n",
    "print('Успешных попыток:',successes,'Попыток:', trials,'Вероятность:', p_monte_carlo, 'Доход:', win_lose)"
   ]
  },
  {
   "cell_type": "markdown",
   "metadata": {},
   "source": [
    "**С учетом того, что вероятность выигрыша составляет 20%, то для игрока она не выгодна**"
   ]
  },
  {
   "cell_type": "code",
   "execution_count": 176,
   "metadata": {},
   "outputs": [
    {
     "name": "stdout",
     "output_type": "stream",
     "text": [
      "В среднем игрок приобретает или теряет сумму: -8.8979\n"
     ]
    }
   ],
   "source": [
    "X = (1 / trials) * (200 + 100 + 50 + 15 + 10) + (9 / trials) * 5 + (90 / trials) * 3 + (9 / trials) * 2 + 100 / trials - 5 * (1 - 1 / trials) - (1 - 9 / trials) - (1 - 90 / trials) - (1 - 100 / trials) - (1 - 9 / trials)\n",
    "print('В среднем игрок приобретает или теряет сумму:', X)"
   ]
  },
  {
   "cell_type": "code",
   "execution_count": 178,
   "metadata": {},
   "outputs": [
    {
     "data": {
      "text/plain": [
       "0.7999999999999999"
      ]
     },
     "execution_count": 178,
     "metadata": {},
     "output_type": "execute_result"
    }
   ],
   "source": [
    "#корректировка по комментариям от Олега\n",
    "res = 0.001*(200 +100+50+15+10) + (9/1000)*5 + (10/1000)*2 + ((99-9)/1000)*3 + ((100-10)/1000)*1\n",
    "res"
   ]
  },
  {
   "cell_type": "code",
   "execution_count": null,
   "metadata": {},
   "outputs": [],
   "source": []
  }
 ],
 "metadata": {
  "kernelspec": {
   "display_name": "Python 3",
   "language": "python",
   "name": "python3"
  },
  "language_info": {
   "codemirror_mode": {
    "name": "ipython",
    "version": 3
   },
   "file_extension": ".py",
   "mimetype": "text/x-python",
   "name": "python",
   "nbconvert_exporter": "python",
   "pygments_lexer": "ipython3",
   "version": "3.8.3"
  }
 },
 "nbformat": 4,
 "nbformat_minor": 4
}
