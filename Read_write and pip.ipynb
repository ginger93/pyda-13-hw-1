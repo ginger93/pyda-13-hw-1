{
 "cells": [
  {
   "cell_type": "markdown",
   "metadata": {},
   "source": [
    "### Переведите содержимое файла purchase_log.txt в словарь purchases вида:\n",
    "{‘1840e0b9d4’: ‘Продукты’, …}"
   ]
  },
  {
   "cell_type": "code",
   "execution_count": 1,
   "metadata": {},
   "outputs": [],
   "source": [
    "import json"
   ]
  },
  {
   "cell_type": "code",
   "execution_count": 9,
   "metadata": {},
   "outputs": [
    {
     "name": "stderr",
     "output_type": "stream",
     "text": [
      "IOPub data rate exceeded.\n",
      "The notebook server will temporarily stop sending output\n",
      "to the client in order to avoid crashing it.\n",
      "To change this limit, set the config variable\n",
      "`--NotebookApp.iopub_data_rate_limit`.\n",
      "\n",
      "Current values:\n",
      "NotebookApp.iopub_data_rate_limit=1000000.0 (bytes/sec)\n",
      "NotebookApp.rate_limit_window=3.0 (secs)\n",
      "\n"
     ]
    }
   ],
   "source": [
    "i = 0\n",
    "purchase = {}\n",
    "with open('C:\\\\Users\\\\Admin\\\\Desktop\\\\netology\\\\Python\\\\purchase_log.txt',  encoding = 'UTF-8') as f:\n",
    "    for line in f:\n",
    "        line = line.strip()\n",
    "        res = json.loads(line)\n",
    "        purchase[res['user_id']] = res['category']\n",
    "        i += 1\n",
    "#         if i > 10:\n",
    "#             break\n",
    "print(purchase)\n",
    "    "
   ]
  },
  {
   "cell_type": "markdown",
   "metadata": {},
   "source": [
    "### Для каждого user_id в файле visit_log.csv определите третий столбец с категорией покупки (если покупка была, сам файл visit_log.csv изменять не надо). Запишите в файл funnel.csv визиты из файла visit_log.csv, в которых были покупки с указанием категории."
   ]
  },
  {
   "cell_type": "code",
   "execution_count": null,
   "metadata": {},
   "outputs": [],
   "source": [
    "with open('C:\\\\Users\\\\Admin\\\\Desktop\\\\netology\\\\Python\\\\visit_log.csv',  encoding = 'UTF-8') as f2:\n",
    "    with open('C:\\\\Users\\\\Admin\\\\Desktop\\\\netology\\\\Python\\\\visit_log_1.csv', 'w', encoding = 'UTF-8') as f2_1:\n",
    "        for line  in f2:\n",
    "            line = line.strip().split(',')\n",
    "            for u, c in purchase.items():\n",
    "                if line[0] in u:\n",
    "                    res = str([line[0], c])\n",
    "                    f2_1.write(res)"
   ]
  }
 ],
 "metadata": {
  "kernelspec": {
   "display_name": "Python 3",
   "language": "python",
   "name": "python3"
  },
  "language_info": {
   "codemirror_mode": {
    "name": "ipython",
    "version": 3
   },
   "file_extension": ".py",
   "mimetype": "text/x-python",
   "name": "python",
   "nbconvert_exporter": "python",
   "pygments_lexer": "ipython3",
   "version": "3.8.3"
  }
 },
 "nbformat": 4,
 "nbformat_minor": 4
}
